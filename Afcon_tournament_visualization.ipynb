{
 "cells": [
  {
   "cell_type": "code",
   "execution_count": 1,
   "metadata": {
    "colab": {},
    "colab_type": "code",
    "id": "xU-nHKfU4OSo",
    "scrolled": true
   },
   "outputs": [],
   "source": [
    "%matplotlib inline\n",
    "from matplotlib import pyplot as plt\n",
    "import pandas as pd\n",
    "import numpy as np\n",
    "import seaborn as snb\n",
    "import networkx as nx"
   ]
  },
  {
   "cell_type": "markdown",
   "metadata": {
    "colab_type": "text",
    "id": "KYQNcBQ4iUIV"
   },
   "source": [
    "The data is for afcon 2019 tournament and can be found on [footystats.org](https://footystats.org/download-stats-csv).\n"
   ]
  },
  {
   "cell_type": "code",
   "execution_count": 2,
   "metadata": {
    "colab": {},
    "colab_type": "code",
    "id": "01kx7s3C4OVM"
   },
   "outputs": [],
   "source": [
    "data = pd.read_csv('international-africa-cup-of-nations-matches-2019-to-2019-stats.csv')"
   ]
  },
  {
   "cell_type": "code",
   "execution_count": 3,
   "metadata": {
    "colab": {
     "base_uri": "https://localhost:8080/",
     "height": 1000
    },
    "colab_type": "code",
    "id": "wgn-wrY94OWY",
    "outputId": "8879733b-8ce4-4386-fe73-257f80a8e53c"
   },
   "outputs": [
    {
     "data": {
      "text/html": [
       "<div>\n",
       "<style scoped>\n",
       "    .dataframe tbody tr th:only-of-type {\n",
       "        vertical-align: middle;\n",
       "    }\n",
       "\n",
       "    .dataframe tbody tr th {\n",
       "        vertical-align: top;\n",
       "    }\n",
       "\n",
       "    .dataframe thead th {\n",
       "        text-align: right;\n",
       "    }\n",
       "</style>\n",
       "<table border=\"1\" class=\"dataframe\">\n",
       "  <thead>\n",
       "    <tr style=\"text-align: right;\">\n",
       "      <th></th>\n",
       "      <th>0</th>\n",
       "      <th>1</th>\n",
       "      <th>2</th>\n",
       "      <th>3</th>\n",
       "      <th>4</th>\n",
       "    </tr>\n",
       "  </thead>\n",
       "  <tbody>\n",
       "    <tr>\n",
       "      <th>timestamp</th>\n",
       "      <td>1561147200</td>\n",
       "      <td>1561213800</td>\n",
       "      <td>1561222800</td>\n",
       "      <td>1561233600</td>\n",
       "      <td>1561300200</td>\n",
       "    </tr>\n",
       "    <tr>\n",
       "      <th>date_GMT</th>\n",
       "      <td>Jun 21 2019 - 8:00pm</td>\n",
       "      <td>Jun 22 2019 - 2:30pm</td>\n",
       "      <td>Jun 22 2019 - 5:00pm</td>\n",
       "      <td>Jun 22 2019 - 8:00pm</td>\n",
       "      <td>Jun 23 2019 - 2:30pm</td>\n",
       "    </tr>\n",
       "    <tr>\n",
       "      <th>status</th>\n",
       "      <td>complete</td>\n",
       "      <td>complete</td>\n",
       "      <td>complete</td>\n",
       "      <td>complete</td>\n",
       "      <td>complete</td>\n",
       "    </tr>\n",
       "    <tr>\n",
       "      <th>attendance</th>\n",
       "      <td>NaN</td>\n",
       "      <td>NaN</td>\n",
       "      <td>NaN</td>\n",
       "      <td>NaN</td>\n",
       "      <td>NaN</td>\n",
       "    </tr>\n",
       "    <tr>\n",
       "      <th>home_team_name</th>\n",
       "      <td>Egypt</td>\n",
       "      <td>Congo DR</td>\n",
       "      <td>Nigeria</td>\n",
       "      <td>Guinea</td>\n",
       "      <td>Morocco</td>\n",
       "    </tr>\n",
       "    <tr>\n",
       "      <th>away_team_name</th>\n",
       "      <td>Zimbabwe</td>\n",
       "      <td>Uganda</td>\n",
       "      <td>Burundi</td>\n",
       "      <td>Madagascar</td>\n",
       "      <td>Namibia</td>\n",
       "    </tr>\n",
       "    <tr>\n",
       "      <th>Pre-Match PPG (Home)</th>\n",
       "      <td>0</td>\n",
       "      <td>0</td>\n",
       "      <td>0</td>\n",
       "      <td>0</td>\n",
       "      <td>0</td>\n",
       "    </tr>\n",
       "    <tr>\n",
       "      <th>Pre-Match PPG (Away)</th>\n",
       "      <td>0</td>\n",
       "      <td>0</td>\n",
       "      <td>0</td>\n",
       "      <td>0</td>\n",
       "      <td>0</td>\n",
       "    </tr>\n",
       "    <tr>\n",
       "      <th>home_ppg</th>\n",
       "      <td>2.25</td>\n",
       "      <td>1</td>\n",
       "      <td>2.14</td>\n",
       "      <td>1</td>\n",
       "      <td>2.5</td>\n",
       "    </tr>\n",
       "    <tr>\n",
       "      <th>away_ppg</th>\n",
       "      <td>0.33</td>\n",
       "      <td>1</td>\n",
       "      <td>0</td>\n",
       "      <td>1.6</td>\n",
       "      <td>0</td>\n",
       "    </tr>\n",
       "    <tr>\n",
       "      <th>home_team_goal_count</th>\n",
       "      <td>1</td>\n",
       "      <td>0</td>\n",
       "      <td>1</td>\n",
       "      <td>2</td>\n",
       "      <td>1</td>\n",
       "    </tr>\n",
       "    <tr>\n",
       "      <th>away_team_goal_count</th>\n",
       "      <td>0</td>\n",
       "      <td>2</td>\n",
       "      <td>0</td>\n",
       "      <td>2</td>\n",
       "      <td>0</td>\n",
       "    </tr>\n",
       "    <tr>\n",
       "      <th>total_goal_count</th>\n",
       "      <td>1</td>\n",
       "      <td>2</td>\n",
       "      <td>1</td>\n",
       "      <td>4</td>\n",
       "      <td>1</td>\n",
       "    </tr>\n",
       "    <tr>\n",
       "      <th>total_goals_at_half_time</th>\n",
       "      <td>1</td>\n",
       "      <td>1</td>\n",
       "      <td>0</td>\n",
       "      <td>1</td>\n",
       "      <td>0</td>\n",
       "    </tr>\n",
       "    <tr>\n",
       "      <th>home_team_goal_count_half_time</th>\n",
       "      <td>1</td>\n",
       "      <td>0</td>\n",
       "      <td>0</td>\n",
       "      <td>1</td>\n",
       "      <td>0</td>\n",
       "    </tr>\n",
       "    <tr>\n",
       "      <th>away_team_goal_count_half_time</th>\n",
       "      <td>0</td>\n",
       "      <td>1</td>\n",
       "      <td>0</td>\n",
       "      <td>0</td>\n",
       "      <td>0</td>\n",
       "    </tr>\n",
       "    <tr>\n",
       "      <th>home_team_goal_timings</th>\n",
       "      <td>41</td>\n",
       "      <td>NaN</td>\n",
       "      <td>77</td>\n",
       "      <td>34,66</td>\n",
       "      <td>89</td>\n",
       "    </tr>\n",
       "    <tr>\n",
       "      <th>away_team_goal_timings</th>\n",
       "      <td>NaN</td>\n",
       "      <td>14,48</td>\n",
       "      <td>NaN</td>\n",
       "      <td>49,55</td>\n",
       "      <td>NaN</td>\n",
       "    </tr>\n",
       "    <tr>\n",
       "      <th>home_team_corner_count</th>\n",
       "      <td>7</td>\n",
       "      <td>5</td>\n",
       "      <td>4</td>\n",
       "      <td>5</td>\n",
       "      <td>5</td>\n",
       "    </tr>\n",
       "    <tr>\n",
       "      <th>away_team_corner_count</th>\n",
       "      <td>2</td>\n",
       "      <td>9</td>\n",
       "      <td>6</td>\n",
       "      <td>3</td>\n",
       "      <td>0</td>\n",
       "    </tr>\n",
       "    <tr>\n",
       "      <th>home_team_yellow_cards</th>\n",
       "      <td>0</td>\n",
       "      <td>2</td>\n",
       "      <td>0</td>\n",
       "      <td>0</td>\n",
       "      <td>0</td>\n",
       "    </tr>\n",
       "    <tr>\n",
       "      <th>home_team_red_cards</th>\n",
       "      <td>0</td>\n",
       "      <td>0</td>\n",
       "      <td>0</td>\n",
       "      <td>0</td>\n",
       "      <td>0</td>\n",
       "    </tr>\n",
       "    <tr>\n",
       "      <th>away_team_yellow_cards</th>\n",
       "      <td>0</td>\n",
       "      <td>1</td>\n",
       "      <td>1</td>\n",
       "      <td>3</td>\n",
       "      <td>2</td>\n",
       "    </tr>\n",
       "    <tr>\n",
       "      <th>away_team_red_cards</th>\n",
       "      <td>0</td>\n",
       "      <td>0</td>\n",
       "      <td>0</td>\n",
       "      <td>0</td>\n",
       "      <td>0</td>\n",
       "    </tr>\n",
       "    <tr>\n",
       "      <th>home_team_shots</th>\n",
       "      <td>16</td>\n",
       "      <td>10</td>\n",
       "      <td>11</td>\n",
       "      <td>11</td>\n",
       "      <td>15</td>\n",
       "    </tr>\n",
       "    <tr>\n",
       "      <th>away_team_shots</th>\n",
       "      <td>9</td>\n",
       "      <td>14</td>\n",
       "      <td>12</td>\n",
       "      <td>6</td>\n",
       "      <td>3</td>\n",
       "    </tr>\n",
       "    <tr>\n",
       "      <th>home_team_shots_on_target</th>\n",
       "      <td>10</td>\n",
       "      <td>4</td>\n",
       "      <td>4</td>\n",
       "      <td>4</td>\n",
       "      <td>6</td>\n",
       "    </tr>\n",
       "    <tr>\n",
       "      <th>away_team_shots_on_target</th>\n",
       "      <td>3</td>\n",
       "      <td>6</td>\n",
       "      <td>7</td>\n",
       "      <td>4</td>\n",
       "      <td>0</td>\n",
       "    </tr>\n",
       "    <tr>\n",
       "      <th>home_team_shots_off_target</th>\n",
       "      <td>6</td>\n",
       "      <td>6</td>\n",
       "      <td>7</td>\n",
       "      <td>7</td>\n",
       "      <td>9</td>\n",
       "    </tr>\n",
       "    <tr>\n",
       "      <th>away_team_shots_off_target</th>\n",
       "      <td>6</td>\n",
       "      <td>8</td>\n",
       "      <td>5</td>\n",
       "      <td>2</td>\n",
       "      <td>3</td>\n",
       "    </tr>\n",
       "    <tr>\n",
       "      <th>home_team_fouls</th>\n",
       "      <td>11</td>\n",
       "      <td>22</td>\n",
       "      <td>19</td>\n",
       "      <td>18</td>\n",
       "      <td>17</td>\n",
       "    </tr>\n",
       "    <tr>\n",
       "      <th>away_team_fouls</th>\n",
       "      <td>10</td>\n",
       "      <td>24</td>\n",
       "      <td>22</td>\n",
       "      <td>13</td>\n",
       "      <td>15</td>\n",
       "    </tr>\n",
       "    <tr>\n",
       "      <th>home_team_possession</th>\n",
       "      <td>55</td>\n",
       "      <td>51</td>\n",
       "      <td>59</td>\n",
       "      <td>58</td>\n",
       "      <td>62</td>\n",
       "    </tr>\n",
       "    <tr>\n",
       "      <th>away_team_possession</th>\n",
       "      <td>45</td>\n",
       "      <td>49</td>\n",
       "      <td>41</td>\n",
       "      <td>42</td>\n",
       "      <td>38</td>\n",
       "    </tr>\n",
       "    <tr>\n",
       "      <th>average_goals_per_match_pre_match</th>\n",
       "      <td>0</td>\n",
       "      <td>0</td>\n",
       "      <td>0</td>\n",
       "      <td>0</td>\n",
       "      <td>0</td>\n",
       "    </tr>\n",
       "    <tr>\n",
       "      <th>btts_percentage_pre_match</th>\n",
       "      <td>0</td>\n",
       "      <td>0</td>\n",
       "      <td>0</td>\n",
       "      <td>0</td>\n",
       "      <td>0</td>\n",
       "    </tr>\n",
       "    <tr>\n",
       "      <th>over_15_percentage_pre_match</th>\n",
       "      <td>0</td>\n",
       "      <td>0</td>\n",
       "      <td>0</td>\n",
       "      <td>0</td>\n",
       "      <td>0</td>\n",
       "    </tr>\n",
       "    <tr>\n",
       "      <th>over_25_percentage_pre_match</th>\n",
       "      <td>0</td>\n",
       "      <td>0</td>\n",
       "      <td>0</td>\n",
       "      <td>0</td>\n",
       "      <td>0</td>\n",
       "    </tr>\n",
       "    <tr>\n",
       "      <th>over_35_percentage_pre_match</th>\n",
       "      <td>0</td>\n",
       "      <td>0</td>\n",
       "      <td>0</td>\n",
       "      <td>0</td>\n",
       "      <td>0</td>\n",
       "    </tr>\n",
       "    <tr>\n",
       "      <th>over_45_percentage_pre_match</th>\n",
       "      <td>0</td>\n",
       "      <td>0</td>\n",
       "      <td>0</td>\n",
       "      <td>0</td>\n",
       "      <td>0</td>\n",
       "    </tr>\n",
       "    <tr>\n",
       "      <th>over_15_HT_FHG_percentage_pre_match</th>\n",
       "      <td>0</td>\n",
       "      <td>0</td>\n",
       "      <td>0</td>\n",
       "      <td>0</td>\n",
       "      <td>0</td>\n",
       "    </tr>\n",
       "    <tr>\n",
       "      <th>over_05_HT_FHG_percentage_pre_match</th>\n",
       "      <td>0</td>\n",
       "      <td>0</td>\n",
       "      <td>0</td>\n",
       "      <td>0</td>\n",
       "      <td>0</td>\n",
       "    </tr>\n",
       "    <tr>\n",
       "      <th>average_corners_per_match_pre_match</th>\n",
       "      <td>0</td>\n",
       "      <td>0</td>\n",
       "      <td>0</td>\n",
       "      <td>0</td>\n",
       "      <td>0</td>\n",
       "    </tr>\n",
       "    <tr>\n",
       "      <th>average_cards_per_match_pre_match</th>\n",
       "      <td>0</td>\n",
       "      <td>0</td>\n",
       "      <td>0</td>\n",
       "      <td>0</td>\n",
       "      <td>0</td>\n",
       "    </tr>\n",
       "    <tr>\n",
       "      <th>odds_ft_home_team_win</th>\n",
       "      <td>1.21</td>\n",
       "      <td>2.25</td>\n",
       "      <td>1.36</td>\n",
       "      <td>1.77</td>\n",
       "      <td>1.29</td>\n",
       "    </tr>\n",
       "    <tr>\n",
       "      <th>odds_ft_draw</th>\n",
       "      <td>6.15</td>\n",
       "      <td>2.95</td>\n",
       "      <td>4.4</td>\n",
       "      <td>3.25</td>\n",
       "      <td>5.1</td>\n",
       "    </tr>\n",
       "    <tr>\n",
       "      <th>odds_ft_away_team_win</th>\n",
       "      <td>13.5</td>\n",
       "      <td>3.6</td>\n",
       "      <td>10.25</td>\n",
       "      <td>5.25</td>\n",
       "      <td>10.75</td>\n",
       "    </tr>\n",
       "    <tr>\n",
       "      <th>odds_ft_over15</th>\n",
       "      <td>1.22</td>\n",
       "      <td>1.65</td>\n",
       "      <td>1.38</td>\n",
       "      <td>1.5</td>\n",
       "      <td>1.35</td>\n",
       "    </tr>\n",
       "    <tr>\n",
       "      <th>odds_ft_over25</th>\n",
       "      <td>1.71</td>\n",
       "      <td>2.95</td>\n",
       "      <td>2.2</td>\n",
       "      <td>2.5</td>\n",
       "      <td>2.1</td>\n",
       "    </tr>\n",
       "    <tr>\n",
       "      <th>odds_ft_over35</th>\n",
       "      <td>2.8</td>\n",
       "      <td>6.2</td>\n",
       "      <td>4.1</td>\n",
       "      <td>4.95</td>\n",
       "      <td>3.8</td>\n",
       "    </tr>\n",
       "    <tr>\n",
       "      <th>odds_ft_over45</th>\n",
       "      <td>5.15</td>\n",
       "      <td>12.75</td>\n",
       "      <td>8</td>\n",
       "      <td>10</td>\n",
       "      <td>7.25</td>\n",
       "    </tr>\n",
       "    <tr>\n",
       "      <th>odds_btts_yes</th>\n",
       "      <td>2.6</td>\n",
       "      <td>2.4</td>\n",
       "      <td>2.7</td>\n",
       "      <td>2.3</td>\n",
       "      <td>2.85</td>\n",
       "    </tr>\n",
       "    <tr>\n",
       "      <th>odds_btts_no</th>\n",
       "      <td>1.44</td>\n",
       "      <td>1.51</td>\n",
       "      <td>1.43</td>\n",
       "      <td>1.56</td>\n",
       "      <td>1.38</td>\n",
       "    </tr>\n",
       "    <tr>\n",
       "      <th>stadium_name</th>\n",
       "      <td>Cairo International Stadium</td>\n",
       "      <td>Cairo International Stadium</td>\n",
       "      <td>Alexandria Stadium</td>\n",
       "      <td>Alexandria Stadium</td>\n",
       "      <td>NaN</td>\n",
       "    </tr>\n",
       "  </tbody>\n",
       "</table>\n",
       "</div>"
      ],
      "text/plain": [
       "                                                               0  \\\n",
       "timestamp                                             1561147200   \n",
       "date_GMT                                    Jun 21 2019 - 8:00pm   \n",
       "status                                                  complete   \n",
       "attendance                                                   NaN   \n",
       "home_team_name                                             Egypt   \n",
       "away_team_name                                          Zimbabwe   \n",
       "Pre-Match PPG (Home)                                           0   \n",
       "Pre-Match PPG (Away)                                           0   \n",
       "home_ppg                                                    2.25   \n",
       "away_ppg                                                    0.33   \n",
       "home_team_goal_count                                           1   \n",
       "away_team_goal_count                                           0   \n",
       "total_goal_count                                               1   \n",
       "total_goals_at_half_time                                       1   \n",
       "home_team_goal_count_half_time                                 1   \n",
       "away_team_goal_count_half_time                                 0   \n",
       "home_team_goal_timings                                        41   \n",
       "away_team_goal_timings                                       NaN   \n",
       "home_team_corner_count                                         7   \n",
       "away_team_corner_count                                         2   \n",
       "home_team_yellow_cards                                         0   \n",
       "home_team_red_cards                                            0   \n",
       "away_team_yellow_cards                                         0   \n",
       "away_team_red_cards                                            0   \n",
       "home_team_shots                                               16   \n",
       "away_team_shots                                                9   \n",
       "home_team_shots_on_target                                     10   \n",
       "away_team_shots_on_target                                      3   \n",
       "home_team_shots_off_target                                     6   \n",
       "away_team_shots_off_target                                     6   \n",
       "home_team_fouls                                               11   \n",
       "away_team_fouls                                               10   \n",
       "home_team_possession                                          55   \n",
       "away_team_possession                                          45   \n",
       "average_goals_per_match_pre_match                              0   \n",
       "btts_percentage_pre_match                                      0   \n",
       "over_15_percentage_pre_match                                   0   \n",
       "over_25_percentage_pre_match                                   0   \n",
       "over_35_percentage_pre_match                                   0   \n",
       "over_45_percentage_pre_match                                   0   \n",
       "over_15_HT_FHG_percentage_pre_match                            0   \n",
       "over_05_HT_FHG_percentage_pre_match                            0   \n",
       "average_corners_per_match_pre_match                            0   \n",
       "average_cards_per_match_pre_match                              0   \n",
       "odds_ft_home_team_win                                       1.21   \n",
       "odds_ft_draw                                                6.15   \n",
       "odds_ft_away_team_win                                       13.5   \n",
       "odds_ft_over15                                              1.22   \n",
       "odds_ft_over25                                              1.71   \n",
       "odds_ft_over35                                               2.8   \n",
       "odds_ft_over45                                              5.15   \n",
       "odds_btts_yes                                                2.6   \n",
       "odds_btts_no                                                1.44   \n",
       "stadium_name                         Cairo International Stadium   \n",
       "\n",
       "                                                               1  \\\n",
       "timestamp                                             1561213800   \n",
       "date_GMT                                    Jun 22 2019 - 2:30pm   \n",
       "status                                                  complete   \n",
       "attendance                                                   NaN   \n",
       "home_team_name                                          Congo DR   \n",
       "away_team_name                                            Uganda   \n",
       "Pre-Match PPG (Home)                                           0   \n",
       "Pre-Match PPG (Away)                                           0   \n",
       "home_ppg                                                       1   \n",
       "away_ppg                                                       1   \n",
       "home_team_goal_count                                           0   \n",
       "away_team_goal_count                                           2   \n",
       "total_goal_count                                               2   \n",
       "total_goals_at_half_time                                       1   \n",
       "home_team_goal_count_half_time                                 0   \n",
       "away_team_goal_count_half_time                                 1   \n",
       "home_team_goal_timings                                       NaN   \n",
       "away_team_goal_timings                                     14,48   \n",
       "home_team_corner_count                                         5   \n",
       "away_team_corner_count                                         9   \n",
       "home_team_yellow_cards                                         2   \n",
       "home_team_red_cards                                            0   \n",
       "away_team_yellow_cards                                         1   \n",
       "away_team_red_cards                                            0   \n",
       "home_team_shots                                               10   \n",
       "away_team_shots                                               14   \n",
       "home_team_shots_on_target                                      4   \n",
       "away_team_shots_on_target                                      6   \n",
       "home_team_shots_off_target                                     6   \n",
       "away_team_shots_off_target                                     8   \n",
       "home_team_fouls                                               22   \n",
       "away_team_fouls                                               24   \n",
       "home_team_possession                                          51   \n",
       "away_team_possession                                          49   \n",
       "average_goals_per_match_pre_match                              0   \n",
       "btts_percentage_pre_match                                      0   \n",
       "over_15_percentage_pre_match                                   0   \n",
       "over_25_percentage_pre_match                                   0   \n",
       "over_35_percentage_pre_match                                   0   \n",
       "over_45_percentage_pre_match                                   0   \n",
       "over_15_HT_FHG_percentage_pre_match                            0   \n",
       "over_05_HT_FHG_percentage_pre_match                            0   \n",
       "average_corners_per_match_pre_match                            0   \n",
       "average_cards_per_match_pre_match                              0   \n",
       "odds_ft_home_team_win                                       2.25   \n",
       "odds_ft_draw                                                2.95   \n",
       "odds_ft_away_team_win                                        3.6   \n",
       "odds_ft_over15                                              1.65   \n",
       "odds_ft_over25                                              2.95   \n",
       "odds_ft_over35                                               6.2   \n",
       "odds_ft_over45                                             12.75   \n",
       "odds_btts_yes                                                2.4   \n",
       "odds_btts_no                                                1.51   \n",
       "stadium_name                         Cairo International Stadium   \n",
       "\n",
       "                                                        2  \\\n",
       "timestamp                                      1561222800   \n",
       "date_GMT                             Jun 22 2019 - 5:00pm   \n",
       "status                                           complete   \n",
       "attendance                                            NaN   \n",
       "home_team_name                                    Nigeria   \n",
       "away_team_name                                    Burundi   \n",
       "Pre-Match PPG (Home)                                    0   \n",
       "Pre-Match PPG (Away)                                    0   \n",
       "home_ppg                                             2.14   \n",
       "away_ppg                                                0   \n",
       "home_team_goal_count                                    1   \n",
       "away_team_goal_count                                    0   \n",
       "total_goal_count                                        1   \n",
       "total_goals_at_half_time                                0   \n",
       "home_team_goal_count_half_time                          0   \n",
       "away_team_goal_count_half_time                          0   \n",
       "home_team_goal_timings                                 77   \n",
       "away_team_goal_timings                                NaN   \n",
       "home_team_corner_count                                  4   \n",
       "away_team_corner_count                                  6   \n",
       "home_team_yellow_cards                                  0   \n",
       "home_team_red_cards                                     0   \n",
       "away_team_yellow_cards                                  1   \n",
       "away_team_red_cards                                     0   \n",
       "home_team_shots                                        11   \n",
       "away_team_shots                                        12   \n",
       "home_team_shots_on_target                               4   \n",
       "away_team_shots_on_target                               7   \n",
       "home_team_shots_off_target                              7   \n",
       "away_team_shots_off_target                              5   \n",
       "home_team_fouls                                        19   \n",
       "away_team_fouls                                        22   \n",
       "home_team_possession                                   59   \n",
       "away_team_possession                                   41   \n",
       "average_goals_per_match_pre_match                       0   \n",
       "btts_percentage_pre_match                               0   \n",
       "over_15_percentage_pre_match                            0   \n",
       "over_25_percentage_pre_match                            0   \n",
       "over_35_percentage_pre_match                            0   \n",
       "over_45_percentage_pre_match                            0   \n",
       "over_15_HT_FHG_percentage_pre_match                     0   \n",
       "over_05_HT_FHG_percentage_pre_match                     0   \n",
       "average_corners_per_match_pre_match                     0   \n",
       "average_cards_per_match_pre_match                       0   \n",
       "odds_ft_home_team_win                                1.36   \n",
       "odds_ft_draw                                          4.4   \n",
       "odds_ft_away_team_win                               10.25   \n",
       "odds_ft_over15                                       1.38   \n",
       "odds_ft_over25                                        2.2   \n",
       "odds_ft_over35                                        4.1   \n",
       "odds_ft_over45                                          8   \n",
       "odds_btts_yes                                         2.7   \n",
       "odds_btts_no                                         1.43   \n",
       "stadium_name                           Alexandria Stadium   \n",
       "\n",
       "                                                        3  \\\n",
       "timestamp                                      1561233600   \n",
       "date_GMT                             Jun 22 2019 - 8:00pm   \n",
       "status                                           complete   \n",
       "attendance                                            NaN   \n",
       "home_team_name                                     Guinea   \n",
       "away_team_name                                 Madagascar   \n",
       "Pre-Match PPG (Home)                                    0   \n",
       "Pre-Match PPG (Away)                                    0   \n",
       "home_ppg                                                1   \n",
       "away_ppg                                              1.6   \n",
       "home_team_goal_count                                    2   \n",
       "away_team_goal_count                                    2   \n",
       "total_goal_count                                        4   \n",
       "total_goals_at_half_time                                1   \n",
       "home_team_goal_count_half_time                          1   \n",
       "away_team_goal_count_half_time                          0   \n",
       "home_team_goal_timings                              34,66   \n",
       "away_team_goal_timings                              49,55   \n",
       "home_team_corner_count                                  5   \n",
       "away_team_corner_count                                  3   \n",
       "home_team_yellow_cards                                  0   \n",
       "home_team_red_cards                                     0   \n",
       "away_team_yellow_cards                                  3   \n",
       "away_team_red_cards                                     0   \n",
       "home_team_shots                                        11   \n",
       "away_team_shots                                         6   \n",
       "home_team_shots_on_target                               4   \n",
       "away_team_shots_on_target                               4   \n",
       "home_team_shots_off_target                              7   \n",
       "away_team_shots_off_target                              2   \n",
       "home_team_fouls                                        18   \n",
       "away_team_fouls                                        13   \n",
       "home_team_possession                                   58   \n",
       "away_team_possession                                   42   \n",
       "average_goals_per_match_pre_match                       0   \n",
       "btts_percentage_pre_match                               0   \n",
       "over_15_percentage_pre_match                            0   \n",
       "over_25_percentage_pre_match                            0   \n",
       "over_35_percentage_pre_match                            0   \n",
       "over_45_percentage_pre_match                            0   \n",
       "over_15_HT_FHG_percentage_pre_match                     0   \n",
       "over_05_HT_FHG_percentage_pre_match                     0   \n",
       "average_corners_per_match_pre_match                     0   \n",
       "average_cards_per_match_pre_match                       0   \n",
       "odds_ft_home_team_win                                1.77   \n",
       "odds_ft_draw                                         3.25   \n",
       "odds_ft_away_team_win                                5.25   \n",
       "odds_ft_over15                                        1.5   \n",
       "odds_ft_over25                                        2.5   \n",
       "odds_ft_over35                                       4.95   \n",
       "odds_ft_over45                                         10   \n",
       "odds_btts_yes                                         2.3   \n",
       "odds_btts_no                                         1.56   \n",
       "stadium_name                           Alexandria Stadium   \n",
       "\n",
       "                                                        4  \n",
       "timestamp                                      1561300200  \n",
       "date_GMT                             Jun 23 2019 - 2:30pm  \n",
       "status                                           complete  \n",
       "attendance                                            NaN  \n",
       "home_team_name                                    Morocco  \n",
       "away_team_name                                    Namibia  \n",
       "Pre-Match PPG (Home)                                    0  \n",
       "Pre-Match PPG (Away)                                    0  \n",
       "home_ppg                                              2.5  \n",
       "away_ppg                                                0  \n",
       "home_team_goal_count                                    1  \n",
       "away_team_goal_count                                    0  \n",
       "total_goal_count                                        1  \n",
       "total_goals_at_half_time                                0  \n",
       "home_team_goal_count_half_time                          0  \n",
       "away_team_goal_count_half_time                          0  \n",
       "home_team_goal_timings                                 89  \n",
       "away_team_goal_timings                                NaN  \n",
       "home_team_corner_count                                  5  \n",
       "away_team_corner_count                                  0  \n",
       "home_team_yellow_cards                                  0  \n",
       "home_team_red_cards                                     0  \n",
       "away_team_yellow_cards                                  2  \n",
       "away_team_red_cards                                     0  \n",
       "home_team_shots                                        15  \n",
       "away_team_shots                                         3  \n",
       "home_team_shots_on_target                               6  \n",
       "away_team_shots_on_target                               0  \n",
       "home_team_shots_off_target                              9  \n",
       "away_team_shots_off_target                              3  \n",
       "home_team_fouls                                        17  \n",
       "away_team_fouls                                        15  \n",
       "home_team_possession                                   62  \n",
       "away_team_possession                                   38  \n",
       "average_goals_per_match_pre_match                       0  \n",
       "btts_percentage_pre_match                               0  \n",
       "over_15_percentage_pre_match                            0  \n",
       "over_25_percentage_pre_match                            0  \n",
       "over_35_percentage_pre_match                            0  \n",
       "over_45_percentage_pre_match                            0  \n",
       "over_15_HT_FHG_percentage_pre_match                     0  \n",
       "over_05_HT_FHG_percentage_pre_match                     0  \n",
       "average_corners_per_match_pre_match                     0  \n",
       "average_cards_per_match_pre_match                       0  \n",
       "odds_ft_home_team_win                                1.29  \n",
       "odds_ft_draw                                          5.1  \n",
       "odds_ft_away_team_win                               10.75  \n",
       "odds_ft_over15                                       1.35  \n",
       "odds_ft_over25                                        2.1  \n",
       "odds_ft_over35                                        3.8  \n",
       "odds_ft_over45                                       7.25  \n",
       "odds_btts_yes                                        2.85  \n",
       "odds_btts_no                                         1.38  \n",
       "stadium_name                                          NaN  "
      ]
     },
     "execution_count": 3,
     "metadata": {},
     "output_type": "execute_result"
    }
   ],
   "source": [
    "data.head().T"
   ]
  },
  {
   "cell_type": "markdown",
   "metadata": {
    "colab_type": "text",
    "id": "r-1UqJug4OXq"
   },
   "source": [
    "Here we can view the  home team and the sum of goals scored by the home team."
   ]
  },
  {
   "cell_type": "code",
   "execution_count": 4,
   "metadata": {
    "colab": {
     "base_uri": "https://localhost:8080/",
     "height": 442
    },
    "colab_type": "code",
    "id": "Tci1JbeW4OXz",
    "outputId": "7a3cd013-8277-4966-8234-a8cd593033ab"
   },
   "outputs": [
    {
     "data": {
      "text/plain": [
       "Text(0.5, 1.0, 'home_team_goal_count')"
      ]
     },
     "execution_count": 4,
     "metadata": {},
     "output_type": "execute_result"
    },
    {
     "data": {
      "image/png": "[encoded data removed]",
      "text/plain": [
       "<Figure size 2160x432 with 1 Axes>"
      ]
     },
     "metadata": {
      "needs_background": "light"
     },
     "output_type": "display_data"
    }
   ],
   "source": [
    "a=data.groupby(['home_team_name']).sum().reset_index()\n",
    "fig, ax = plt.subplots(figsize=(30, 6))\n",
    "snb.barplot(x=\"home_team_name\",y=\"home_team_goal_count\",data = a,ax=ax,)\n",
    "plt.title(\"home_team_goal_count\")"
   ]
  },
  {
   "cell_type": "markdown",
   "metadata": {
    "colab_type": "text",
    "id": "csbDH0Gf4OYx"
   },
   "source": [
    "Here we can view the  away team and the sum of goals scored by the away team."
   ]
  },
  {
   "cell_type": "code",
   "execution_count": null,
   "metadata": {
    "colab": {
     "base_uri": "https://localhost:8080/",
     "height": 441
    },
    "colab_type": "code",
    "id": "CDTErcrH4OZI",
    "outputId": "950abe93-7123-4b71-f9c1-3db30a3dfae2",
    "scrolled": true
   },
   "outputs": [
    {
     "data": {
      "text/plain": [
       "Text(0.5, 1.0, 'away_team_goal_count')"
      ]
     },
     "execution_count": 5,
     "metadata": {},
     "output_type": "execute_result"
    },
    {
     "data": {
      "image/png": "[encoded data removed]",
      "text/plain": [
       "<Figure size 2160x432 with 1 Axes>"
      ]
     },
     "metadata": {
      "needs_background": "light"
     },
     "output_type": "display_data"
    }
   ],
   "source": [
    "a=data.groupby(['away_team_name']).sum().reset_index()\n",
    "fig, ax = plt.subplots(figsize=(30, 6))\n",
    "snb.barplot(x=\"away_team_name\",y=\"away_team_goal_count\",data = a,ax=ax,)\n",
    "plt.title(\"away_team_goal_count\")"
   ]
  },
  {
   "cell_type": "markdown",
   "metadata": {
    "colab_type": "text",
    "id": "4xMq3jLD4OaH"
   },
   "source": [
    "Here we can view the  home team and the average goals per match scored by the home team."
   ]
  },
  {
   "cell_type": "code",
   "execution_count": null,
   "metadata": {
    "colab": {
     "base_uri": "https://localhost:8080/",
     "height": 442
    },
    "colab_type": "code",
    "id": "M7c5pR4p4OaZ",
    "outputId": "3b2b3263-8751-420e-d28e-cfae82d0b3c5"
   },
   "outputs": [
    {
     "data": {
      "text/plain": [
       "Text(0.5, 1.0, 'home_team_goal_count_per_match')"
      ]
     },
     "execution_count": 6,
     "metadata": {},
     "output_type": "execute_result"
    }
   ],
   "source": [
    "a=data.groupby(['home_team_name']).mean().reset_index()\n",
    "fig, ax = plt.subplots(figsize=(30, 6))\n",
    "snb.barplot(x=\"home_team_name\",y=\"home_team_goal_count\",data = a,ax=ax,)\n",
    "plt.title(\"home_team_goal_count_per_match\")"
   ]
  },
  {
   "cell_type": "markdown",
   "metadata": {
    "colab_type": "text",
    "id": "-PvoafAt4Obp"
   },
   "source": [
    "Here we can view the  away team and the average goals per match scored by the away team."
   ]
  },
  {
   "cell_type": "code",
   "execution_count": null,
   "metadata": {
    "colab": {
     "base_uri": "https://localhost:8080/",
     "height": 441
    },
    "colab_type": "code",
    "id": "r5xKICIR4Ocf",
    "outputId": "ccdf8955-c694-4cf9-8d63-c663b053cc8b"
   },
   "outputs": [],
   "source": [
    "a=data.groupby(['away_team_name']).mean().reset_index()\n",
    "fig, ax = plt.subplots(figsize=(30, 6))\n",
    "snb.barplot(x=\"away_team_name\",y=\"away_team_goal_count\",data = a,ax=ax,)\n",
    "plt.title(\"away_team_goal_count\")"
   ]
  },
  {
   "cell_type": "code",
   "execution_count": null,
   "metadata": {
    "colab": {
     "base_uri": "https://localhost:8080/",
     "height": 442
    },
    "colab_type": "code",
    "id": "5_2c-1204OeE",
    "outputId": "06c16f49-3b53-41ba-ec3e-181ed8db0d63"
   },
   "outputs": [],
   "source": [
    "a=data.groupby(['home_team_name']).sum().reset_index()\n",
    "fig, ax = plt.subplots(figsize=(30, 6))\n",
    "snb.barplot(x=\"home_team_name\",y=\"home_team_fouls\",data = a,ax=ax,)\n",
    "plt.title(\"home_team_goal_fouls_count\")"
   ]
  },
  {
   "cell_type": "code",
   "execution_count": null,
   "metadata": {
    "colab": {
     "base_uri": "https://localhost:8080/",
     "height": 441
    },
    "colab_type": "code",
    "id": "77xCmW2S4Oe-",
    "outputId": "8ff09b04-2afc-4838-8c5d-3b7ed62e81c3"
   },
   "outputs": [],
   "source": [
    "a=data.groupby(['away_team_name']).sum().reset_index()\n",
    "fig, ax = plt.subplots(figsize=(30, 6))\n",
    "snb.barplot(x=\"away_team_name\",y=\"away_team_fouls\",data = a,ax=ax,)\n",
    "plt.title(\"away_team_goal_fouls_count\")\n"
   ]
  },
  {
   "cell_type": "code",
   "execution_count": null,
   "metadata": {
    "colab": {
     "base_uri": "https://localhost:8080/",
     "height": 442
    },
    "colab_type": "code",
    "id": "qEqAO37N4Of0",
    "outputId": "e0c2cd04-4b25-4146-91a5-d01890ef422f"
   },
   "outputs": [],
   "source": [
    "a=data.groupby(['home_team_name']).sum().reset_index()\n",
    "fig, ax = plt.subplots(figsize=(30, 6))\n",
    "snb.barplot(x=\"home_team_name\",y=\"home_team_shots_on_target\",data = a,ax=ax,)\n",
    "plt.title(\"home_team_shots_on_target\")"
   ]
  },
  {
   "cell_type": "code",
   "execution_count": null,
   "metadata": {
    "colab": {
     "base_uri": "https://localhost:8080/",
     "height": 441
    },
    "colab_type": "code",
    "id": "bq2Vpj7U4Oho",
    "outputId": "77746d89-98aa-45b9-a676-c2c6e00061b9"
   },
   "outputs": [],
   "source": [
    "a=data.groupby(['away_team_name']).mean().reset_index()\n",
    "fig, ax = plt.subplots(figsize=(30, 6))\n",
    "snb.barplot(x=\"away_team_name\",y=\"away_team_shots_on_target\",data = a,ax=ax,)\n",
    "plt.title(\"away_team_shots_on_target\")"
   ]
  },
  {
   "cell_type": "code",
   "execution_count": null,
   "metadata": {
    "colab": {
     "base_uri": "https://localhost:8080/",
     "height": 639
    },
    "colab_type": "code",
    "id": "MQ2eAZEw4Ope",
    "outputId": "7b12ecc1-e0fa-4b24-900b-a46de3d6fa74"
   },
   "outputs": [],
   "source": [
    "a=data\n",
    "fig, ax = plt.subplots(figsize=(10, 10))\n",
    "snb.barplot(x=\"home_team_name\",y=\"home_team_shots_on_target\",data = a,ax=ax)\n",
    "snb.barplot(x=\"away_team_name\",y=\"home_team_shots_on_target\",data = a,ax=ax)\n",
    "plt.title(\"home_team_shots_on_target\")"
   ]
  },
  {
   "cell_type": "markdown",
   "metadata": {
    "colab_type": "text",
    "id": "bNdOM7kupu78"
   },
   "source": [
    "## To view the red cards, yellow cards and total cards rewarded to the home teams."
   ]
  },
  {
   "cell_type": "code",
   "execution_count": null,
   "metadata": {
    "colab": {
     "base_uri": "https://localhost:8080/",
     "height": 612
    },
    "colab_type": "code",
    "id": "LKJFqWjE4Oqg",
    "outputId": "131f85e3-348d-404a-ef58-e8414290d298"
   },
   "outputs": [],
   "source": [
    "data['total_home_cards']=data['home_team_red_cards'] + data['home_team_yellow_cards']\n",
    "a = data.groupby('home_team_name').sum().reset_index()\n",
    "\n",
    "a.plot(x='home_team_name',y=['home_team_yellow_cards','home_team_red_cards','total_home_cards'], kind=\"barh\",figsize=(10,10))"
   ]
  },
  {
   "cell_type": "markdown",
   "metadata": {
    "colab_type": "text",
    "id": "YVC3p7OtpSrD"
   },
   "source": [
    "## To view the red cards, yellow cards and total cards rewarded to the away team."
   ]
  },
  {
   "cell_type": "code",
   "execution_count": null,
   "metadata": {
    "colab": {
     "base_uri": "https://localhost:8080/",
     "height": 612
    },
    "colab_type": "code",
    "id": "-Oj0XVyI4Osg",
    "outputId": "4f4d147d-f0a9-45da-dad4-15448f75c357"
   },
   "outputs": [],
   "source": [
    "data['total_away_cards'] = data['away_team_red_cards'] + data['away_team_yellow_cards']\n",
    "a = data.groupby('away_team_name').sum().reset_index()\n",
    "\n",
    "a.plot(x='away_team_name',y=['away_team_yellow_cards','away_team_red_cards','total_away_cards'], kind=\"barh\",figsize=(10,10))"
   ]
  },
  {
   "cell_type": "code",
   "execution_count": null,
   "metadata": {
    "colab": {
     "base_uri": "https://localhost:8080/",
     "height": 404
    },
    "colab_type": "code",
    "id": "K3I2Ybxf4Oxm",
    "outputId": "65fc436d-5a95-43f4-ba0f-c479de78c580"
   },
   "outputs": [],
   "source": [
    "\n",
    "plt.figure(figsize=(12,6))\n",
    "snb.kdeplot(data[\"home_team_goal_count\"],shade=True,\n",
    "            color=\"b\",label=\"home goals\")\n",
    "snb.kdeplot(data[\"away_team_goal_count\"],shade=True,\n",
    "            color=\"r\",label=\"away goals\")\n",
    "plt.axvline(data[\"home_team_goal_count\"].mean(),linestyle = \"dashed\",\n",
    "            color=\"b\",label=\"home goals mean\")\n",
    "plt.axvline(data[\"away_team_goal_count\"].mean(),linestyle = \"dashed\",\n",
    "            color=\"r\",label=\"away goals mean\")\n",
    "plt.legend(loc=\"best\",prop = {\"size\" : 12})\n",
    "plt.title(\"DISTRIBUTION OF HOME AND AWAY GOALS\")\n",
    "plt.xlabel(\"goals\")\n",
    "plt.show()"
   ]
  },
  {
   "cell_type": "code",
   "execution_count": null,
   "metadata": {
    "colab": {
     "base_uri": "https://localhost:8080/",
     "height": 425
    },
    "colab_type": "code",
    "id": "bZlOHeWc4Oyk",
    "outputId": "f5d8dcae-378a-4cb5-bec6-0f9ebbaf8450"
   },
   "outputs": [],
   "source": [
    "data.columns"
   ]
  },
  {
   "cell_type": "markdown",
   "metadata": {
    "colab_type": "text",
    "id": "843keEyIo4Qu"
   },
   "source": [
    "## To view the Interaction among countries in the tournament."
   ]
  },
  {
   "cell_type": "code",
   "execution_count": null,
   "metadata": {
    "colab": {
     "base_uri": "https://localhost:8080/",
     "height": 856
    },
    "colab_type": "code",
    "id": "11LWpR8n4OzD",
    "outputId": "5e7d4c7b-bbec-4ade-a2c4-668b01394014"
   },
   "outputs": [],
   "source": [
    "g = nx.from_pandas_edgelist(data,\"home_team_name\",\"away_team_name\")\n",
    "fig = plt.figure(figsize=(11,11))\n",
    "nx.draw_kamada_kawai(g,with_labels = True)\n",
    "plt.title(\"INTERACTION BETWEEN COUNTRIES\")\n",
    "fig.set_facecolor(\"white\")\n",
    "fig.set"
   ]
  },
  {
   "cell_type": "markdown",
   "metadata": {},
   "source": [
    "## To view the percentages of Home wins, Away wins and Draws in the Torunament."
   ]
  },
  {
   "cell_type": "code",
   "execution_count": null,
   "metadata": {
    "colab": {},
    "colab_type": "code",
    "id": "PG-Iaq5e4Ozm"
   },
   "outputs": [],
   "source": [
    "def outcome(df):\n",
    "    if df[\"home_team_goal_count\"] > df[\"away_team_goal_count\"]:\n",
    "        return \"HOME TEAM WIN\"\n",
    "    elif df[\"away_team_goal_count\"] > df[\"home_team_goal_count\"]:\n",
    "        return \"AWAY TEAM WIN\"\n",
    "    elif df[\"home_team_goal_count\"] == df[\"away_team_goal_count\"]:\n",
    "        return \"DRAW\""
   ]
  },
  {
   "cell_type": "code",
   "execution_count": null,
   "metadata": {
    "colab": {},
    "colab_type": "code",
    "id": "NsWzBWmi4O1J"
   },
   "outputs": [],
   "source": [
    "data[\"outcome_side\"] = data.apply(lambda data:outcome(data),axis = 1)"
   ]
  },
  {
   "cell_type": "code",
   "execution_count": null,
   "metadata": {
    "colab": {
     "base_uri": "https://localhost:8080/",
     "height": 119
    },
    "colab_type": "code",
    "id": "tRW706Cq4O1t",
    "outputId": "c2bc25b4-fe2a-4fe1-b3a5-56e44765e67f"
   },
   "outputs": [],
   "source": [
    "data['outcome_side'].head()"
   ]
  },
  {
   "cell_type": "code",
   "execution_count": null,
   "metadata": {
    "colab": {
     "base_uri": "https://localhost:8080/",
     "height": 490
    },
    "colab_type": "code",
    "id": "W-nDAsUx4O2Y",
    "outputId": "e62ac8e6-8661-434c-dcd9-24869d09c465"
   },
   "outputs": [],
   "source": [
    "plt.figure(figsize=(8,8))\n",
    "data[\"outcome_side\"].value_counts().plot.pie(autopct = \"%1.0f%%\",\n",
    "                                             colors =snb.color_palette(\"rainbow\",3),\n",
    "                                             wedgeprops = {\"linewidth\":2,\"edgecolor\":\"white\"})"
   ]
  },
  {
   "cell_type": "markdown",
   "metadata": {},
   "source": [
    "## To visualize the possession of the teams per match in the tournament."
   ]
  },
  {
   "cell_type": "code",
   "execution_count": null,
   "metadata": {
    "colab": {},
    "colab_type": "code",
    "id": "jB-nLHt54O3W"
   },
   "outputs": [],
   "source": [
    "def match(df):\n",
    "    return str(str(df['home_team_name']) +' vs ' + str(df['away_team_name']))"
   ]
  },
  {
   "cell_type": "code",
   "execution_count": null,
   "metadata": {
    "colab": {},
    "colab_type": "code",
    "id": "G6hOgkBV4O3w"
   },
   "outputs": [],
   "source": [
    "data[\"match\"] = data.apply(lambda data:match(data),axis = 1)"
   ]
  },
  {
   "cell_type": "code",
   "execution_count": null,
   "metadata": {
    "colab": {
     "base_uri": "https://localhost:8080/",
     "height": 1000
    },
    "colab_type": "code",
    "id": "riMpfWYA4O4H",
    "outputId": "8123c07d-9b78-48bc-e6f2-4629d40e4bbd"
   },
   "outputs": [],
   "source": [
    "data.plot(x='match',y=['home_team_possession','away_team_possession'], kind=\"barh\",figsize=(10,30))\n"
   ]
  },
  {
   "cell_type": "markdown",
   "metadata": {},
   "source": [
    "#### The funny possession from Senegal vs Algeria match in the figure above is as a result of the data. It has -1 and -1 for the possession entry for the match."
   ]
  },
  {
   "cell_type": "code",
   "execution_count": null,
   "metadata": {},
   "outputs": [],
   "source": [
    "data[data['match'] == 'Senegal vs Algeria'][['home_team_possession','away_team_possession']]"
   ]
  },
  {
   "cell_type": "code",
   "execution_count": null,
   "metadata": {},
   "outputs": [],
   "source": []
  }
 ],
 "metadata": {
  "colab": {
   "name": "Afcon tournament visualization.ipynb",
   "provenance": [],
   "version": "0.3.2"
  },
  "kernelspec": {
   "display_name": "Python 3",
   "language": "python",
   "name": "python3"
  },
  "language_info": {
   "codemirror_mode": {
    "name": "ipython",
    "version": 3
   },
   "file_extension": ".py",
   "mimetype": "text/x-python",
   "name": "python",
   "nbconvert_exporter": "python",
   "pygments_lexer": "ipython3",
   "version": "3.7.1"
  }
 },
 "nbformat": 4,
 "nbformat_minor": 1
}
